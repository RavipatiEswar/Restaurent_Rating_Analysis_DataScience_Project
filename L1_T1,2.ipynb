{
 "cells": [
  {
   "cell_type": "code",
   "execution_count": 3,
   "id": "0d93351b-ae5f-4777-85d5-2a5bd162df9a",
   "metadata": {},
   "outputs": [],
   "source": [
    "import pandas as pd\n",
    "import numpy as np\n",
    "import matplotlib.pyplot as plt"
   ]
  },
  {
   "cell_type": "code",
   "execution_count": 4,
   "id": "75c5b792-6282-4217-9b9b-4b55c8118c18",
   "metadata": {},
   "outputs": [],
   "source": [
    "import seaborn as sns"
   ]
  },
  {
   "cell_type": "code",
   "execution_count": 5,
   "id": "b9be88e5-d429-4ecf-a9bc-3ef31fa1dae3",
   "metadata": {},
   "outputs": [
    {
     "name": "stdout",
     "output_type": "stream",
     "text": [
      "Rows:9551\n",
      "Columns:21\n"
     ]
    }
   ],
   "source": [
    "#Task 1\n",
    "data=pd.read_csv('DS.csv')\n",
    "print(f\"Rows:{data.shape[0]}\")\n",
    "print(f\"Columns:{data.shape[1]}\")"
   ]
  },
  {
   "cell_type": "code",
   "execution_count": 6,
   "id": "0bf8accf-f2ad-4e8a-aec3-8a2ef31d9335",
   "metadata": {},
   "outputs": [
    {
     "name": "stdout",
     "output_type": "stream",
     "text": [
      "Number of rows with null 'Cuisines': 9\n"
     ]
    }
   ],
   "source": [
    "#null_cuisine_rows count\n",
    "null_cuisine_rows = data[data['Cuisines'].isnull()]\n",
    "null_count = null_cuisine_rows.shape[0]\n",
    "print(f\"Number of rows with null 'Cuisines': {null_count}\")"
   ]
  },
  {
   "cell_type": "code",
   "execution_count": 7,
   "id": "e46113e7-18db-4705-8510-7d715710c44e",
   "metadata": {},
   "outputs": [
    {
     "name": "stdout",
     "output_type": "stream",
     "text": [
      "Restaurant ID           0\n",
      "Restaurant Name         0\n",
      "Country Code            0\n",
      "City                    0\n",
      "Address                 0\n",
      "Locality                0\n",
      "Locality Verbose        0\n",
      "Longitude               0\n",
      "Latitude                0\n",
      "Cuisines                9\n",
      "Average Cost for two    0\n",
      "Currency                0\n",
      "Has Table booking       0\n",
      "Has Online delivery     0\n",
      "Is delivering now       0\n",
      "Switch to order menu    0\n",
      "Price range             0\n",
      "Aggregate rating        0\n",
      "Rating color            0\n",
      "Rating text             0\n",
      "Votes                   0\n",
      "dtype: int64\n"
     ]
    }
   ],
   "source": [
    "print(data.isnull().sum())"
   ]
  },
  {
   "cell_type": "code",
   "execution_count": 8,
   "id": "5fec06a1-53b1-41f6-9ac3-4f40fb1214ff",
   "metadata": {},
   "outputs": [],
   "source": [
    "# 3. Handle missing values in 'Cuisines' by filling with mode (most frequent cuisine)\n",
    "data.fillna({'Cuisines': data['Cuisines'].mode()[0]}, inplace=True)\n"
   ]
  },
  {
   "cell_type": "code",
   "execution_count": 9,
   "id": "df05d19e-85ed-401f-a89d-3f93baa4b1d9",
   "metadata": {},
   "outputs": [
    {
     "name": "stdout",
     "output_type": "stream",
     "text": [
      "Index(['Restaurant ID', 'Restaurant Name', 'Country Code', 'City', 'Address',\n",
      "       'Locality', 'Locality Verbose', 'Longitude', 'Latitude', 'Cuisines',\n",
      "       'Average Cost for two', 'Currency', 'Has Table booking',\n",
      "       'Has Online delivery', 'Is delivering now', 'Switch to order menu',\n",
      "       'Price range', 'Aggregate rating', 'Rating color', 'Rating text',\n",
      "       'Votes'],\n",
      "      dtype='object')\n"
     ]
    }
   ],
   "source": [
    "print(data.columns)\n"
   ]
  },
  {
   "cell_type": "code",
   "execution_count": 10,
   "id": "46b99e0a-5ac1-4a2d-bd2e-5173177c7fa8",
   "metadata": {},
   "outputs": [],
   "source": [
    "# Example: Fill missing numerical values with column mean\n",
    "for col in data.select_dtypes(include=np.number).columns:\n",
    "    data[col] = data[col].fillna(data[col].mean())\n",
    "\n",
    "# Example: Fill missing categorical values with column mode\n",
    "for col in data.select_dtypes(include='object').columns:\n",
    "    data[col] = data[col].fillna(data[col].mode()[0])\n"
   ]
  },
  {
   "cell_type": "code",
   "execution_count": 11,
   "id": "38030a10-2b17-43cb-ad5b-b7480263e542",
   "metadata": {},
   "outputs": [
    {
     "name": "stdout",
     "output_type": "stream",
     "text": [
      "Restaurant ID             int64\n",
      "Restaurant Name          object\n",
      "Country Code              int64\n",
      "City                     object\n",
      "Address                  object\n",
      "Locality                 object\n",
      "Locality Verbose         object\n",
      "Longitude               float64\n",
      "Latitude                float64\n",
      "Cuisines                 object\n",
      "Average Cost for two      int64\n",
      "Currency                 object\n",
      "Has Table booking        object\n",
      "Has Online delivery      object\n",
      "Is delivering now        object\n",
      "Switch to order menu     object\n",
      "Price range               int64\n",
      "Aggregate rating        float64\n",
      "Rating color             object\n",
      "Rating text              object\n",
      "Votes                     int64\n",
      "dtype: object\n"
     ]
    }
   ],
   "source": [
    "# Print data types\n",
    "print(data.dtypes)\n"
   ]
  },
  {
   "cell_type": "code",
   "execution_count": 12,
   "id": "0d1efb46-4339-47f8-b94c-5baa9cc49a17",
   "metadata": {},
   "outputs": [
    {
     "name": "stdout",
     "output_type": "stream",
     "text": [
      "Aggregate rating\n",
      "0.0    2148\n",
      "3.2     522\n",
      "3.1     519\n",
      "3.4     498\n",
      "3.3     483\n",
      "3.5     480\n",
      "3.0     468\n",
      "3.6     458\n",
      "3.7     427\n",
      "3.8     400\n",
      "2.9     381\n",
      "3.9     335\n",
      "2.8     315\n",
      "4.1     274\n",
      "4.0     266\n",
      "2.7     250\n",
      "4.2     221\n",
      "2.6     191\n",
      "4.3     174\n",
      "4.4     144\n",
      "2.5     110\n",
      "4.5      95\n",
      "2.4      87\n",
      "4.6      78\n",
      "4.9      61\n",
      "2.3      47\n",
      "4.7      42\n",
      "2.2      27\n",
      "4.8      25\n",
      "2.1      15\n",
      "2.0       7\n",
      "1.9       2\n",
      "1.8       1\n",
      "Name: count, dtype: int64\n"
     ]
    },
    {
     "data": {
      "image/png": "[encoded data removed]",
      "text/plain": [
       "<Figure size 800x400 with 1 Axes>"
      ]
     },
     "metadata": {},
     "output_type": "display_data"
    }
   ],
   "source": [
    "# Value counts\n",
    "print(data['Aggregate rating'].value_counts())\n",
    "\n",
    "# Visualize distribution\n",
    "plt.figure(figsize=(8,4))\n",
    "sns.countplot(x='Aggregate rating', data=data)\n",
    "plt.title('Distribution of Aggregate rating')\n",
    "plt.show()\n"
   ]
  },
  {
   "cell_type": "code",
   "execution_count": 16,
   "id": "1ba93da3-f7b1-4f59-a06c-c012af1b7b3d",
   "metadata": {},
   "outputs": [
    {
     "name": "stdout",
     "output_type": "stream",
     "text": [
      "Aggregate rating\n",
      "0.0    22.489792\n",
      "3.2     5.465396\n",
      "3.1     5.433986\n",
      "3.4     5.214114\n",
      "3.3     5.057062\n",
      "3.5     5.025652\n",
      "3.0     4.900010\n",
      "3.6     4.795309\n",
      "3.7     4.470736\n",
      "3.8     4.188043\n",
      "2.9     3.989111\n",
      "3.9     3.507486\n",
      "2.8     3.298084\n",
      "4.1     2.868810\n",
      "4.0     2.785049\n",
      "2.7     2.617527\n",
      "4.2     2.313894\n",
      "2.6     1.999791\n",
      "4.3     1.821799\n",
      "4.4     1.507696\n",
      "2.5     1.151712\n",
      "4.5     0.994660\n",
      "2.4     0.910899\n",
      "4.6     0.816668\n",
      "4.9     0.638677\n",
      "2.3     0.492095\n",
      "4.7     0.439745\n",
      "2.2     0.282693\n",
      "4.8     0.261753\n",
      "2.1     0.157052\n",
      "2.0     0.073291\n",
      "1.9     0.020940\n",
      "1.8     0.010470\n",
      "Name: proportion, dtype: float64\n"
     ]
    }
   ],
   "source": [
    "# 6. Calculate class imbalance percentage\n",
    "print(data['Aggregate rating'].value_counts(normalize=True)*100)"
   ]
  },
  {
   "cell_type": "code",
   "execution_count": 17,
   "id": "c718a739-f681-47a7-92b9-079ba64cee48",
   "metadata": {},
   "outputs": [
    {
     "name": "stdout",
     "output_type": "stream",
     "text": [
      "Sample unique cuisines:\n",
      "['French, Japanese, Desserts' 'Japanese'\n",
      " 'Seafood, Asian, Filipino, Indian' 'Japanese, Sushi' 'Japanese, Korean'\n",
      " 'Chinese' 'Asian, European' 'Seafood, Filipino, Asian, European'\n",
      " 'European, Asian, Indian' 'Filipino']\n",
      "cusines: 0             French, Japanese, Desserts\n",
      "1                               Japanese\n",
      "2       Seafood, Asian, Filipino, Indian\n",
      "3                        Japanese, Sushi\n",
      "4                       Japanese, Korean\n",
      "5                                Chinese\n",
      "6                        Asian, European\n",
      "7     Seafood, Filipino, Asian, European\n",
      "8                European, Asian, Indian\n",
      "9                               Filipino\n",
      "10                     Filipino, Mexican\n",
      "11         American, Ice Cream, Desserts\n",
      "12                     Filipino, Mexican\n",
      "13                              Filipino\n",
      "14                                Korean\n",
      "Name: Cuisines, dtype: object\n"
     ]
    }
   ],
   "source": [
    "# 7. Explore unique cuisine types (sample first 10 unique cuisines)\n",
    "print(\"Sample unique cuisines:\")\n",
    "print(data['Cuisines'].unique()[:10])\n",
    "print(\"cusines:\",data['Cuisines'].head(15))"
   ]
  },
  {
   "cell_type": "code",
   "execution_count": 21,
   "id": "a42e4f88-8eae-4945-816c-ab85bc48c0b6",
   "metadata": {},
   "outputs": [
    {
     "name": "stdout",
     "output_type": "stream",
     "text": [
      "       Restaurant ID  Country Code    Longitude     Latitude  \\\n",
      "count   9.551000e+03   9551.000000  9551.000000  9551.000000   \n",
      "mean    9.051128e+06     18.365616    64.126574    25.854381   \n",
      "std     8.791521e+06     56.750546    41.467058    11.007935   \n",
      "min     5.300000e+01      1.000000  -157.948486   -41.330428   \n",
      "25%     3.019625e+05      1.000000    77.081343    28.478713   \n",
      "50%     6.004089e+06      1.000000    77.191964    28.570469   \n",
      "75%     1.835229e+07      1.000000    77.282006    28.642758   \n",
      "max     1.850065e+07    216.000000   174.832089    55.976980   \n",
      "\n",
      "       Average Cost for two  Price range  Aggregate rating         Votes  \n",
      "count           9551.000000  9551.000000       9551.000000   9551.000000  \n",
      "mean            1199.210763     1.804837          2.666370    156.909748  \n",
      "std            16121.183073     0.905609          1.516378    430.169145  \n",
      "min                0.000000     1.000000          0.000000      0.000000  \n",
      "25%              250.000000     1.000000          2.500000      5.000000  \n",
      "50%              400.000000     2.000000          3.200000     31.000000  \n",
      "75%              700.000000     2.000000          3.700000    131.000000  \n",
      "max           800000.000000     4.000000          4.900000  10934.000000  \n",
      "Medians:\n",
      " Restaurant ID           6.004089e+06\n",
      "Country Code            1.000000e+00\n",
      "Longitude               7.719196e+01\n",
      "Latitude                2.857047e+01\n",
      "Average Cost for two    4.000000e+02\n",
      "Price range             2.000000e+00\n",
      "Aggregate rating        3.200000e+00\n",
      "Votes                   3.100000e+01\n",
      "dtype: float64\n"
     ]
    }
   ],
   "source": [
    "#Task-2\n",
    "print(data.describe())\n",
    "\n",
    "# Calculate median values for all numerical columns\n",
    "print(\"Medians:\\n\", data.median(numeric_only=True))\n"
   ]
  },
  {
   "cell_type": "code",
   "execution_count": 30,
   "id": "ba0696c4-cf07-437f-8242-5e7ff5ccdf03",
   "metadata": {},
   "outputs": [
    {
     "name": "stdout",
     "output_type": "stream",
     "text": [
      "Country Code counts:\n",
      " Country Code\n",
      "1      8652\n",
      "216     434\n",
      "215      80\n",
      "30       60\n",
      "214      60\n",
      "189      60\n",
      "148      40\n",
      "208      34\n",
      "14       24\n",
      "162      22\n",
      "94       21\n",
      "184      20\n",
      "166      20\n",
      "191      20\n",
      "37        4\n",
      "Name: count, dtype: int64\n",
      "City counts:\n",
      " City\n",
      "New Delhi           5473\n",
      "Gurgaon             1118\n",
      "Noida               1080\n",
      "Faridabad            251\n",
      "Ghaziabad             25\n",
      "                    ... \n",
      "Panchkula              1\n",
      "Mc Millan              1\n",
      "Mayfield               1\n",
      "Macedon                1\n",
      "Vineland Station       1\n",
      "Name: count, Length: 141, dtype: int64\n",
      "Cuisines counts:\n",
      " Cuisines\n",
      "North Indian                      945\n",
      "North Indian, Chinese             511\n",
      "Chinese                           354\n",
      "Fast Food                         354\n",
      "North Indian, Mughlai             334\n",
      "Cafe                              299\n",
      "Bakery                            218\n",
      "North Indian, Mughlai, Chinese    197\n",
      "Bakery, Desserts                  170\n",
      "Street Food                       149\n",
      "Pizza, Fast Food                  131\n",
      "Chinese, Fast Food                118\n",
      "Mithai, Street Food               116\n",
      "South Indian                      112\n",
      "Bakery, Fast Food                 108\n",
      "Chinese, North Indian             105\n",
      "Mughlai                           103\n",
      "Ice Cream, Desserts                83\n",
      "Ice Cream                          74\n",
      "North Indian, Fast Food            74\n",
      "Name: count, dtype: int64\n"
     ]
    }
   ],
   "source": [
    "# Frequency count for Country Code\n",
    "print(\"Country Code counts:\\n\", data['Country Code'].value_counts())\n",
    "\n",
    "# Frequency count for City\n",
    "print(\"City counts:\\n\", data['City'].value_counts())\n",
    "\n",
    "# Frequency count for Cuisines (combinations as in the data)\n",
    "print(\"Cuisines counts:\\n\", data['Cuisines'].value_counts().head(20))\n",
    "#print(\"for LL THE DEATILS OVER THE CUISINES DETAILS IN REPEAT\")\n",
    "#data['Cuisines'].str.split(', ').explode().value_counts().head(250)\n"
   ]
  },
  {
   "cell_type": "code",
   "execution_count": 34,
   "id": "b07b8018-e46f-4bce-8186-1f01120cb5cb",
   "metadata": {},
   "outputs": [],
   "source": [
    "from collections import Counter"
   ]
  },
  {
   "cell_type": "code",
   "execution_count": 35,
   "id": "5917f5e5-4869-4afd-8397-6151378dcae5",
   "metadata": {},
   "outputs": [
    {
     "name": "stdout",
     "output_type": "stream",
     "text": [
      "Top Cities:\n",
      " City\n",
      "New Delhi       5473\n",
      "Gurgaon         1118\n",
      "Noida           1080\n",
      "Faridabad        251\n",
      "Ghaziabad         25\n",
      "Bhubaneshwar      21\n",
      "Amritsar          21\n",
      "Ahmedabad         21\n",
      "Lucknow           21\n",
      "Guwahati          21\n",
      "Name: count, dtype: int64\n",
      "Top Cuisines (combos):\n",
      " Cuisines\n",
      "North Indian                      945\n",
      "North Indian, Chinese             511\n",
      "Chinese                           354\n",
      "Fast Food                         354\n",
      "North Indian, Mughlai             334\n",
      "Cafe                              299\n",
      "Bakery                            218\n",
      "North Indian, Mughlai, Chinese    197\n",
      "Bakery, Desserts                  170\n",
      "Street Food                       149\n",
      "Name: count, dtype: int64\n",
      "Top 10 individual cuisines:\n",
      " [('North Indian', 3969), ('Chinese', 2735), ('Fast Food', 1986), ('Mughlai', 995), ('Italian', 764), ('Bakery', 745), ('Continental', 736), ('Cafe', 703), ('Desserts', 653), ('South Indian', 636)]\n"
     ]
    }
   ],
   "source": [
    "# Top 10 Cities\n",
    "print(\"Top Cities:\\n\", data['City'].value_counts().head(10))\n",
    "\n",
    "# Top 10 Cuisines (as combos, not individual)\n",
    "print(\"Top Cuisines (combos):\\n\", data['Cuisines'].value_counts().head(10))\n",
    "\n",
    "# To find the most popular stand-alone cuisines:\n",
    "all_cuisines = data['Cuisines'].dropna().str.split(',').sum()\n",
    "all_cuisines = [c.strip() for c in all_cuisines]\n",
    "cuisine_counts = Counter(all_cuisines)\n",
    "print(\"Top 10 individual cuisines:\\n\", cuisine_counts.most_common(10))\n"
   ]
  },
  {
   "cell_type": "code",
   "execution_count": 40,
   "id": "396bfe8b-8b7f-4994-9363-cee722a72443",
   "metadata": {},
   "outputs": [
    {
     "data": {
      "image/png": "[encoded data removed]",
      "text/plain": [
       "<Figure size 1000x500 with 1 Axes>"
      ]
     },
     "metadata": {},
     "output_type": "display_data"
    }
   ],
   "source": [
    "# Visualizing the top  cities\n",
    "plt.figure(figsize=(10, 5))\n",
    "sns.barplot(x=data['City'].value_counts().head(10).values, y=data['City'].value_counts().head(10).index)\n",
    "plt.title('Top 10 Cities by Number of Restaurants')\n",
    "plt.xlabel('Number of Restaurants')\n",
    "plt.ylabel('City')\n",
    "plt.show()\n"
   ]
  },
  {
   "cell_type": "code",
   "execution_count": 42,
   "id": "8259ed5d-0020-4f15-be45-c70b362ac3ae",
   "metadata": {},
   "outputs": [
    {
     "data": {
      "image/png": "[encoded data removed]",
      "text/plain": [
       "<Figure size 1000x500 with 1 Axes>"
      ]
     },
     "metadata": {},
     "output_type": "display_data"
    }
   ],
   "source": [
    "# Visualizing the   cusines\n",
    "plt.figure(figsize=(10, 5))\n",
    "sns.barplot(x=data['Cuisines'].value_counts().head(10).values, y=data['Cuisines'].value_counts().head(10).index)\n",
    "plt.title('Top Cuisines by Number of Restaurants')\n",
    "plt.xlabel('Number of Restaurants')\n",
    "plt.ylabel('Cuisines')\n",
    "plt.show()"
   ]
  },
  {
   "cell_type": "code",
   "execution_count": null,
   "id": "df998066-f530-41db-9bd0-bdc4839437e3",
   "metadata": {},
   "outputs": [],
   "source": []
  }
 ],
 "metadata": {
  "kernelspec": {
   "display_name": "Python 3 (ipykernel)",
   "language": "python",
   "name": "python3"
  },
  "language_info": {
   "codemirror_mode": {
    "name": "ipython",
    "version": 3
   },
   "file_extension": ".py",
   "mimetype": "text/x-python",
   "name": "python",
   "nbconvert_exporter": "python",
   "pygments_lexer": "ipython3",
   "version": "3.12.1"
  }
 },
 "nbformat": 4,
 "nbformat_minor": 5
}
